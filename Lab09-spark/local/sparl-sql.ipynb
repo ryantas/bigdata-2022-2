{
 "cells": [
  {
   "cell_type": "code",
   "execution_count": 1,
   "id": "775b8b07",
   "metadata": {},
   "outputs": [],
   "source": [
    "from pyspark import SparkContext\n",
    "from pyspark.sql import SparkSession\n",
    "from pyspark.conf import SparkConf"
   ]
  },
  {
   "cell_type": "code",
   "execution_count": 3,
   "id": "24587182",
   "metadata": {},
   "outputs": [],
   "source": [
    "\n",
    "conf = SparkConf()  # create the configuration\n",
    "# conf.set(\"spark.jars\", \"/home/serendipita/Documents/utec/bigdata-2022-2/Lab09-spark/notebooks/postgresql-42.4.0.jar\")  # set the spark.jars\n",
    "\n",
    "spark = SparkSession.builder.config(conf=conf).master(\"local\").appName(\"Python Spark SQL basic example\").getOrCreate()\n",
    "\n"
   ]
  },
  {
   "cell_type": "code",
   "execution_count": 4,
   "id": "2d82c54e-82a7-412c-8be9-3a4e7d2ec935",
   "metadata": {},
   "outputs": [],
   "source": [
    "\n",
    "df = spark.read \\\n",
    "    .format(\"jdbc\") \\\n",
    "    .option(\"url\", \"jdbc:postgresql://localhost/sparksql?user=sparksql\") \\\n",
    "    .option(\"dbtable\", \"gameclicks\") \\\n",
    "    .load() # \\\n",
    "    #.show(10)\n",
    "\n",
    "# df.printSchema()"
   ]
  },
  {
   "cell_type": "code",
   "execution_count": 6,
   "id": "fe5a909d-60d7-4c8d-b727-4326ef39eb1c",
   "metadata": {},
   "outputs": [
    {
     "name": "stdout",
     "output_type": "stream",
     "text": [
      "root\n",
      " |-- timestamp: timestamp (nullable = true)\n",
      " |-- clickid: integer (nullable = true)\n",
      " |-- userid: integer (nullable = true)\n",
      " |-- usersessionid: integer (nullable = true)\n",
      " |-- ishit: integer (nullable = true)\n",
      " |-- teamid: integer (nullable = true)\n",
      " |-- teamlevel: integer (nullable = true)\n",
      "\n"
     ]
    }
   ],
   "source": [
    "df.printSchema()"
   ]
  },
  {
   "cell_type": "code",
   "execution_count": 7,
   "id": "bc583c74",
   "metadata": {},
   "outputs": [
    {
     "name": "stderr",
     "output_type": "stream",
     "text": [
      "                                                                                \r"
     ]
    },
    {
     "data": {
      "text/plain": [
       "755806"
      ]
     },
     "execution_count": 7,
     "metadata": {},
     "output_type": "execute_result"
    }
   ],
   "source": [
    "df.count()"
   ]
  },
  {
   "cell_type": "code",
   "execution_count": 8,
   "id": "7c6d67e7-4270-439b-b217-2c1a1270fef6",
   "metadata": {},
   "outputs": [
    {
     "name": "stderr",
     "output_type": "stream",
     "text": [
      "[Stage 3:>                                                          (0 + 1) / 1]\r"
     ]
    },
    {
     "name": "stdout",
     "output_type": "stream",
     "text": [
      "+-------------------+-------+------+-------------+-----+------+---------+\n",
      "|          timestamp|clickid|userid|usersessionid|ishit|teamid|teamlevel|\n",
      "+-------------------+-------+------+-------------+-----+------+---------+\n",
      "|2016-05-26 15:06:55|    105|  1038|         5916|    0|    25|        1|\n",
      "|2016-05-26 15:07:09|    154|  1099|         5898|    0|    44|        1|\n",
      "|2016-05-26 15:07:14|    229|   899|         5757|    0|    71|        1|\n",
      "|2016-05-26 15:07:14|    322|  2197|         5854|    0|    99|        1|\n",
      "|2016-05-26 15:07:20|     22|  1362|         5739|    0|    13|        1|\n",
      "|2016-05-26 15:07:27|    107|  1071|         5939|    0|    27|        1|\n",
      "|2016-05-26 15:07:30|    289|  2359|         5764|    0|    85|        1|\n",
      "|2016-05-26 15:07:30|    301|  1243|         5900|    0|    86|        1|\n",
      "|2016-05-26 15:07:47|    274|  1628|         5896|    0|    82|        1|\n",
      "|2016-05-26 15:07:48|     66|   453|         5662|    0|    20|        1|\n",
      "|2016-05-26 15:07:49|    124|  2336|         5761|    0|    32|        1|\n",
      "|2016-05-26 15:07:53|    204|  1664|         5831|    0|    69|        1|\n",
      "|2016-05-26 15:07:58|    162|   243|         5943|    0|    54|        1|\n",
      "|2016-05-26 15:08:02|    308|  2333|         5701|    0|    90|        1|\n",
      "|2016-05-26 15:08:03|    160|   181|         5787|    0|    53|        1|\n",
      "|2016-05-26 15:08:04|    183|   212|         5756|    0|    63|        1|\n",
      "|2016-05-26 15:08:12|    314|  1142|         5871|    0|    93|        1|\n",
      "|2016-05-26 15:08:13|    171|  1085|         5882|    0|    61|        1|\n",
      "|2016-05-26 15:08:16|     67|  1215|         5905|    0|    20|        1|\n",
      "|2016-05-26 15:08:23|    332|  2306|         5783|    0|   100|        1|\n",
      "+-------------------+-------+------+-------------+-----+------+---------+\n",
      "only showing top 20 rows\n",
      "\n"
     ]
    },
    {
     "name": "stderr",
     "output_type": "stream",
     "text": [
      "                                                                                \r"
     ]
    }
   ],
   "source": [
    "df.show()"
   ]
  },
  {
   "cell_type": "code",
   "execution_count": 9,
   "id": "86a9cd25-a093-4619-a63f-e8cd0464e12b",
   "metadata": {},
   "outputs": [
    {
     "name": "stdout",
     "output_type": "stream",
     "text": [
      "+------+---------+\n",
      "|userid|teamlevel|\n",
      "+------+---------+\n",
      "|  1038|        1|\n",
      "|  1099|        1|\n",
      "|   899|        1|\n",
      "|  2197|        1|\n",
      "|  1362|        1|\n",
      "|  1071|        1|\n",
      "|  2359|        1|\n",
      "|  1243|        1|\n",
      "|  1628|        1|\n",
      "|   453|        1|\n",
      "|  2336|        1|\n",
      "|  1664|        1|\n",
      "|   243|        1|\n",
      "|  2333|        1|\n",
      "|   181|        1|\n",
      "|   212|        1|\n",
      "|  1142|        1|\n",
      "|  1085|        1|\n",
      "|  1215|        1|\n",
      "|  2306|        1|\n",
      "+------+---------+\n",
      "only showing top 20 rows\n",
      "\n"
     ]
    }
   ],
   "source": [
    "df.select('userid', 'teamlevel').show()"
   ]
  },
  {
   "cell_type": "code",
   "execution_count": 14,
   "id": "59c0813e-1921-49d7-bd13-6e8f13f37658",
   "metadata": {},
   "outputs": [
    {
     "name": "stdout",
     "output_type": "stream",
     "text": [
      "+------+---------+\n",
      "|userid|teamlevel|\n",
      "+------+---------+\n",
      "|  1148|        8|\n",
      "|  1806|        8|\n",
      "|   765|        8|\n",
      "|  1966|        8|\n",
      "|  1769|        8|\n",
      "|  2187|        8|\n",
      "|   960|        8|\n",
      "|  1423|        8|\n",
      "|  1373|        8|\n",
      "|  1742|        8|\n",
      "|   720|        8|\n",
      "|   464|        8|\n",
      "|   591|        8|\n",
      "|  1256|        8|\n",
      "|   511|        8|\n",
      "|   920|        8|\n",
      "|   371|        8|\n",
      "|  1966|        8|\n",
      "|  1797|        8|\n",
      "|  1756|        8|\n",
      "+------+---------+\n",
      "only showing top 20 rows\n",
      "\n"
     ]
    }
   ],
   "source": [
    "df.filter(df['teamlevel']>7).select('userid', 'teamlevel').show()"
   ]
  },
  {
   "cell_type": "code",
   "execution_count": 15,
   "id": "94206c3c-c6bd-41c3-a738-faa1630c5cd5",
   "metadata": {},
   "outputs": [
    {
     "name": "stdout",
     "output_type": "stream",
     "text": [
      "+-----+------+\n",
      "|ishit| count|\n",
      "+-----+------+\n",
      "|    1| 83383|\n",
      "|    0|672423|\n",
      "+-----+------+\n",
      "\n"
     ]
    }
   ],
   "source": [
    "df.groupby('ishit').count().show()"
   ]
  },
  {
   "cell_type": "code",
   "execution_count": 16,
   "id": "e3fca5f7-1d30-4ab0-8402-8ad1c8b94f6d",
   "metadata": {},
   "outputs": [],
   "source": [
    "from pyspark.sql.functions import *"
   ]
  },
  {
   "cell_type": "code",
   "execution_count": 17,
   "id": "32f65a8b-5693-44aa-ab16-b27a89abc8c3",
   "metadata": {},
   "outputs": [
    {
     "name": "stdout",
     "output_type": "stream",
     "text": [
      "+------------------+----------+\n",
      "|        avg(ishit)|sum(ishit)|\n",
      "+------------------+----------+\n",
      "|0.1103232840173272|     83383|\n",
      "+------------------+----------+\n",
      "\n"
     ]
    }
   ],
   "source": [
    "df.select(mean('ishit'), sum('ishit')).show()"
   ]
  },
  {
   "cell_type": "code",
   "execution_count": 18,
   "id": "c39f9f51-77a8-47cb-8330-6c416df4248b",
   "metadata": {},
   "outputs": [],
   "source": [
    "\n",
    "df2 = spark.read \\\n",
    "    .format(\"jdbc\") \\\n",
    "    .option(\"url\", \"jdbc:postgresql://localhost/sparksql?user=sparksql\") \\\n",
    "    .option(\"dbtable\", \"adclicks\") \\\n",
    "    .load() #"
   ]
  },
  {
   "cell_type": "code",
   "execution_count": 19,
   "id": "67fff80a-ea91-41a5-bda0-33a1b22b1cea",
   "metadata": {},
   "outputs": [],
   "source": [
    "merge = df.join(df2, 'userid')"
   ]
  },
  {
   "cell_type": "code",
   "execution_count": 20,
   "id": "19e4515a-53d6-43c7-bffd-d1bed1fc0fb3",
   "metadata": {},
   "outputs": [
    {
     "name": "stdout",
     "output_type": "stream",
     "text": [
      "root\n",
      " |-- userid: integer (nullable = true)\n",
      " |-- timestamp: timestamp (nullable = true)\n",
      " |-- clickid: integer (nullable = true)\n",
      " |-- usersessionid: integer (nullable = true)\n",
      " |-- ishit: integer (nullable = true)\n",
      " |-- teamid: integer (nullable = true)\n",
      " |-- teamlevel: integer (nullable = true)\n",
      " |-- timestamp: timestamp (nullable = true)\n",
      " |-- txid: integer (nullable = true)\n",
      " |-- usersessionid: integer (nullable = true)\n",
      " |-- teamid: integer (nullable = true)\n",
      " |-- adid: integer (nullable = true)\n",
      " |-- adcategory: string (nullable = true)\n",
      "\n"
     ]
    }
   ],
   "source": [
    "merge.printSchema()"
   ]
  },
  {
   "cell_type": "code",
   "execution_count": 21,
   "id": "dd505aa5-0d88-42be-820a-d941facf61a5",
   "metadata": {},
   "outputs": [
    {
     "name": "stderr",
     "output_type": "stream",
     "text": [
      "[Stage 16:>                 (0 + 1) / 1][Stage 17:>                 (0 + 0) / 1]\r"
     ]
    },
    {
     "name": "stdout",
     "output_type": "stream",
     "text": [
      "+------+-------------------+-------+-------------+-----+------+---------+-------------------+-----+-------------+------+----+----------+\n",
      "|userid|          timestamp|clickid|usersessionid|ishit|teamid|teamlevel|          timestamp| txid|usersessionid|teamid|adid|adcategory|\n",
      "+------+-------------------+-------+-------------+-----+------+---------+-------------------+-----+-------------+------+----+----------+\n",
      "|   471|2016-05-26 15:12:28|    109|         5863|    0|    27|        1|2016-06-15 07:40:58|37570|        34330|    27|   6|    movies|\n",
      "|   471|2016-05-26 15:12:28|    109|         5863|    0|    27|        1|2016-06-15 00:10:58|37103|        34330|    27|  23|   fashion|\n",
      "|   471|2016-05-26 15:12:28|    109|         5863|    0|    27|        1|2016-06-14 13:06:53|36168|        34330|    27|  26|    movies|\n",
      "|   471|2016-05-26 15:12:28|    109|         5863|    0|    27|        1|2016-06-14 09:31:41|35833|        34330|    27|  12| computers|\n",
      "|   471|2016-05-26 15:12:28|    109|         5863|    0|    27|        1|2016-06-14 02:10:44|35241|        34330|    27|  13| computers|\n",
      "|   471|2016-05-26 15:12:28|    109|         5863|    0|    27|        1|2016-06-13 22:44:53|34999|        34330|    27|  21|    movies|\n",
      "|   471|2016-05-26 15:12:28|    109|         5863|    0|    27|        1|2016-06-13 19:35:38|34056|        26527|    27|  22| computers|\n",
      "|   471|2016-05-26 15:12:28|    109|         5863|    0|    27|        1|2016-06-13 18:21:21|33967|        26527|    27|  23|   fashion|\n",
      "|   471|2016-05-26 15:12:28|    109|         5863|    0|    27|        1|2016-06-12 12:31:56|31635|        26527|    27|  15|    sports|\n",
      "|   471|2016-05-26 15:12:28|    109|         5863|    0|    27|        1|2016-06-12 09:14:19|31431|        26527|    27|  18|     games|\n",
      "|   471|2016-05-26 15:12:28|    109|         5863|    0|    27|        1|2016-06-11 21:46:22|30515|        26527|    27|  10|   fashion|\n",
      "|   471|2016-05-26 15:12:28|    109|         5863|    0|    27|        1|2016-06-11 16:01:05|30073|        26527|    27|  10|   fashion|\n",
      "|   471|2016-05-26 15:12:28|    109|         5863|    0|    27|        1|2016-06-11 09:17:22|29564|        26527|    27|  24|  clothing|\n",
      "|   471|2016-05-26 15:12:28|    109|         5863|    0|    27|        1|2016-06-11 03:10:53|29151|        26527|    27|   8|  hardware|\n",
      "|   471|2016-05-26 15:12:28|    109|         5863|    0|    27|        1|2016-06-11 01:59:25|29059|        26527|    27|  22| computers|\n",
      "|   471|2016-05-26 15:12:28|    109|         5863|    0|    27|        1|2016-06-10 00:16:57|27473|        26527|    27|   5| computers|\n",
      "|   471|2016-05-26 15:12:28|    109|         5863|    0|    27|        1|2016-06-09 15:38:14|26156|        20647|    27|  14|   fashion|\n",
      "|   471|2016-05-26 15:12:28|    109|         5863|    0|    27|        1|2016-06-09 06:53:03|25533|        20647|    27|  10|   fashion|\n",
      "|   471|2016-05-26 15:12:28|    109|         5863|    0|    27|        1|2016-06-08 12:50:39|24366|        20647|    27|  18|     games|\n",
      "|   471|2016-05-26 15:12:28|    109|         5863|    0|    27|        1|2016-06-08 04:29:38|23803|        20647|    27|  24|  clothing|\n",
      "+------+-------------------+-------+-------------+-----+------+---------+-------------------+-----+-------------+------+----+----------+\n",
      "only showing top 20 rows\n",
      "\n"
     ]
    },
    {
     "name": "stderr",
     "output_type": "stream",
     "text": [
      "                                                                                \r"
     ]
    }
   ],
   "source": [
    "merge.show()"
   ]
  },
  {
   "cell_type": "code",
   "execution_count": null,
   "id": "08231819-3fe4-4256-b26e-f82a8f392769",
   "metadata": {},
   "outputs": [],
   "source": []
  }
 ],
 "metadata": {
  "kernelspec": {
   "display_name": "Python 3 (ipykernel)",
   "language": "python",
   "name": "python3"
  },
  "language_info": {
   "codemirror_mode": {
    "name": "ipython",
    "version": 3
   },
   "file_extension": ".py",
   "mimetype": "text/x-python",
   "name": "python",
   "nbconvert_exporter": "python",
   "pygments_lexer": "ipython3",
   "version": "3.9.13"
  },
  "vscode": {
   "interpreter": {
    "hash": "ee0e340b373adaa70299d42cd1cb59b0a3467f40584d69eef1fc62bec46809f7"
   }
  }
 },
 "nbformat": 4,
 "nbformat_minor": 5
}
