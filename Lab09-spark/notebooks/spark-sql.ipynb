{
 "cells": [
  {
   "cell_type": "code",
   "execution_count": 1,
   "metadata": {
    "jupyter": {
     "outputs_hidden": true
    }
   },
   "outputs": [],
   "source": [
    "from pyspark import SparkContext\n",
    "from pyspark.sql import SQLContext"
   ]
  },
  {
   "cell_type": "code",
   "execution_count": 2,
   "metadata": {
    "jupyter": {
     "outputs_hidden": true
    }
   },
   "outputs": [],
   "source": [
    "sc = SparkContext()\n",
    "sqlsc = SQLContext(sc)"
   ]
  },
  {
   "cell_type": "code",
   "execution_count": 1,
   "metadata": {},
   "outputs": [
    {
     "name": "stdout",
     "output_type": "stream",
     "text": [
      "/bin/sh: 1: psql: not found\r\n"
     ]
    }
   ],
   "source": [
    "!psql --version"
   ]
  },
  {
   "cell_type": "code",
   "execution_count": 6,
   "metadata": {},
   "outputs": [],
   "source": [
    "# ping to posgres service"
   ]
  },
  {
   "cell_type": "code",
   "execution_count": 4,
   "metadata": {},
   "outputs": [],
   "source": [
    "# create databse with csv moving to posgres table"
   ]
  },
  {
   "cell_type": "code",
   "execution_count": 3,
   "metadata": {
    "jupyter": {
     "outputs_hidden": true
    },
    "scrolled": true
   },
   "outputs": [],
   "source": [
    "#df = sqlsc.read.format(\"jdbc\") \\\n",
    "#  .option(\"url\", \"jdbc:postgresql://localhost/spark?user=spark\") \\\n",
    "#  .option(\"dbtable\", \"gameclicks\") \\\n",
    "#  .load()"
   ]
  },
  {
   "cell_type": "code",
   "execution_count": null,
   "metadata": {},
   "outputs": [],
   "source": []
  },
  {
   "cell_type": "code",
   "execution_count": 5,
   "metadata": {
    "jupyter": {
     "outputs_hidden": false
    }
   },
   "outputs": [
    {
     "name": "stdout",
     "output_type": "stream",
     "text": [
      "root\n",
      " |-- timestamp: timestamp (nullable = false)\n",
      " |-- clickid: integer (nullable = false)\n",
      " |-- userid: integer (nullable = false)\n",
      " |-- usersessionid: integer (nullable = false)\n",
      " |-- ishit: integer (nullable = false)\n",
      " |-- teamid: integer (nullable = false)\n",
      " |-- teamlevel: integer (nullable = false)\n",
      "\n"
     ]
    }
   ],
   "source": [
    "df.printSchema()"
   ]
  },
  {
   "cell_type": "code",
   "execution_count": 7,
   "metadata": {
    "jupyter": {
     "outputs_hidden": false
    }
   },
   "outputs": [
    {
     "data": {
      "text/plain": [
       "755806"
      ]
     },
     "execution_count": 7,
     "metadata": {},
     "output_type": "execute_result"
    }
   ],
   "source": [
    "df.count()"
   ]
  },
  {
   "cell_type": "code",
   "execution_count": 8,
   "metadata": {
    "jupyter": {
     "outputs_hidden": false
    }
   },
   "outputs": [
    {
     "name": "stdout",
     "output_type": "stream",
     "text": [
      "+--------------------+-------+------+-------------+-----+------+---------+\n",
      "|           timestamp|clickid|userid|usersessionid|ishit|teamid|teamlevel|\n",
      "+--------------------+-------+------+-------------+-----+------+---------+\n",
      "|2016-06-09 13:32:...| 438813|   390|        20554|    1|    11|        6|\n",
      "|2016-06-09 13:32:...| 439001|   446|        20770|    1|    57|        6|\n",
      "|2016-06-09 13:33:...| 439243|   748|        24389|    0|   103|        6|\n",
      "|2016-06-09 13:33:...| 439400|  1634|        24100|    1|   123|        5|\n",
      "|2016-06-09 13:33:...| 439124|  1214|        20929|    0|    82|        6|\n",
      "|2016-06-09 13:33:...| 439250|  2174|        21283|    1|   104|        6|\n",
      "|2016-06-09 13:33:...| 438871|   662|        20659|    0|    28|        6|\n",
      "|2016-06-09 13:33:...| 439630|  2056|        23338|    0|   152|        3|\n",
      "|2016-06-09 13:33:...| 439052|   109|        20841|    0|    69|        6|\n",
      "|2016-06-09 13:33:...| 438943|   366|        20708|    0|    39|        6|\n",
      "|2016-06-09 13:33:...| 439021|   590|        20803|    0|    63|        6|\n",
      "|2016-06-09 13:33:...| 438998|   178|        20757|    1|    54|        6|\n",
      "|2016-06-09 13:33:...| 439214|  2263|        21013|    0|    99|        6|\n",
      "|2016-06-09 13:33:...| 438983|  1765|        23835|    0|    51|        6|\n",
      "|2016-06-09 13:33:...| 439520|   579|        25738|    0|   140|        3|\n",
      "|2016-06-09 13:33:...| 438886|  1815|        20664|    0|    32|        6|\n",
      "|2016-06-09 13:33:...| 439349|  1355|        22013|    1|   115|        5|\n",
      "|2016-06-09 13:33:...| 439101|  1771|        20902|    0|    75|        6|\n",
      "|2016-06-09 13:33:...| 439554|   290|        22935|    1|   146|        3|\n",
      "|2016-06-09 13:33:...| 439599|  1125|        24517|    0|   148|        3|\n",
      "+--------------------+-------+------+-------------+-----+------+---------+\n",
      "only showing top 20 rows\n",
      "\n"
     ]
    }
   ],
   "source": [
    "df.show()"
   ]
  },
  {
   "cell_type": "code",
   "execution_count": 9,
   "metadata": {
    "jupyter": {
     "outputs_hidden": false
    }
   },
   "outputs": [
    {
     "name": "stdout",
     "output_type": "stream",
     "text": [
      "+------+---------+\n",
      "|userid|teamlevel|\n",
      "+------+---------+\n",
      "|   390|        6|\n",
      "|   446|        6|\n",
      "|   748|        6|\n",
      "|  1634|        5|\n",
      "|  1214|        6|\n",
      "|  2174|        6|\n",
      "|   662|        6|\n",
      "|  2056|        3|\n",
      "|   109|        6|\n",
      "|   366|        6|\n",
      "|   590|        6|\n",
      "|   178|        6|\n",
      "|  2263|        6|\n",
      "|  1765|        6|\n",
      "|   579|        3|\n",
      "|  1815|        6|\n",
      "|  1355|        5|\n",
      "|  1771|        6|\n",
      "|   290|        3|\n",
      "|  1125|        3|\n",
      "+------+---------+\n",
      "only showing top 20 rows\n",
      "\n"
     ]
    }
   ],
   "source": [
    "df.select('userid', 'teamlevel').show()"
   ]
  },
  {
   "cell_type": "code",
   "execution_count": 10,
   "metadata": {
    "jupyter": {
     "outputs_hidden": false
    }
   },
   "outputs": [
    {
     "name": "stdout",
     "output_type": "stream",
     "text": [
      "+------+---------+\n",
      "|userid|teamlevel|\n",
      "+------+---------+\n",
      "|   390|        6|\n",
      "|   446|        6|\n",
      "|   748|        6|\n",
      "|  1634|        5|\n",
      "|  1214|        6|\n",
      "|  2174|        6|\n",
      "|   662|        6|\n",
      "|  2056|        3|\n",
      "|   109|        6|\n",
      "|   366|        6|\n",
      "|   590|        6|\n",
      "|   178|        6|\n",
      "|  2263|        6|\n",
      "|  1765|        6|\n",
      "|   579|        3|\n",
      "|  1815|        6|\n",
      "|  1355|        5|\n",
      "|  1771|        6|\n",
      "|   290|        3|\n",
      "|  1125|        3|\n",
      "+------+---------+\n",
      "only showing top 20 rows\n",
      "\n"
     ]
    }
   ],
   "source": [
    "df.filter(df['teamlevel']>1).select('userid', 'teamlevel').show()"
   ]
  },
  {
   "cell_type": "code",
   "execution_count": 12,
   "metadata": {
    "jupyter": {
     "outputs_hidden": false
    }
   },
   "outputs": [
    {
     "name": "stdout",
     "output_type": "stream",
     "text": [
      "+-----+------+\n",
      "|ishit| count|\n",
      "+-----+------+\n",
      "|    0|672423|\n",
      "|    1| 83383|\n",
      "+-----+------+\n",
      "\n"
     ]
    }
   ],
   "source": [
    "df.groupBy('ishit').count().show()"
   ]
  },
  {
   "cell_type": "code",
   "execution_count": 13,
   "metadata": {
    "collapsed": true,
    "jupyter": {
     "outputs_hidden": true
    }
   },
   "outputs": [],
   "source": [
    "from pyspark.sql.functions import *"
   ]
  },
  {
   "cell_type": "code",
   "execution_count": 14,
   "metadata": {
    "jupyter": {
     "outputs_hidden": false
    }
   },
   "outputs": [
    {
     "name": "stdout",
     "output_type": "stream",
     "text": [
      "+------------------+----------+\n",
      "|        avg(ishit)|sum(ishit)|\n",
      "+------------------+----------+\n",
      "|0.1103232840173272|     83383|\n",
      "+------------------+----------+\n",
      "\n"
     ]
    }
   ],
   "source": [
    "df.select(mean('ishit'), sum('ishit')).show()"
   ]
  },
  {
   "cell_type": "code",
   "execution_count": 15,
   "metadata": {
    "collapsed": true,
    "jupyter": {
     "outputs_hidden": true
    }
   },
   "outputs": [],
   "source": [
    "df2 = sqlsc.read.format(\"jdbc\") \\\n",
    "  .option(\"url\", \"jdbc:postgresql://localhost/sparksql?user=sparksql\") \\\n",
    "  .option(\"dbtable\", \"adclicks\") \\\n",
    "  .load()"
   ]
  },
  {
   "cell_type": "code",
   "execution_count": 16,
   "metadata": {
    "collapsed": true,
    "jupyter": {
     "outputs_hidden": true
    }
   },
   "outputs": [],
   "source": [
    "merge = df.join(df2, 'userid')"
   ]
  },
  {
   "cell_type": "code",
   "execution_count": 17,
   "metadata": {
    "jupyter": {
     "outputs_hidden": false
    }
   },
   "outputs": [
    {
     "name": "stdout",
     "output_type": "stream",
     "text": [
      "root\n",
      " |-- userid: integer (nullable = false)\n",
      " |-- timestamp: timestamp (nullable = false)\n",
      " |-- clickid: integer (nullable = false)\n",
      " |-- usersessionid: integer (nullable = false)\n",
      " |-- ishit: integer (nullable = false)\n",
      " |-- teamid: integer (nullable = false)\n",
      " |-- teamlevel: integer (nullable = false)\n",
      " |-- timestamp: timestamp (nullable = false)\n",
      " |-- txid: integer (nullable = false)\n",
      " |-- usersessionid: integer (nullable = false)\n",
      " |-- teamid: integer (nullable = false)\n",
      " |-- adid: integer (nullable = false)\n",
      " |-- adcategory: string (nullable = false)\n",
      "\n"
     ]
    }
   ],
   "source": [
    "merge.printSchema()"
   ]
  },
  {
   "cell_type": "code",
   "execution_count": 18,
   "metadata": {
    "jupyter": {
     "outputs_hidden": false
    }
   },
   "outputs": [
    {
     "name": "stdout",
     "output_type": "stream",
     "text": [
      "+------+--------------------+-------+-------------+-----+------+---------+--------------------+-----+-------------+------+----+-----------+\n",
      "|userid|           timestamp|clickid|usersessionid|ishit|teamid|teamlevel|           timestamp| txid|usersessionid|teamid|adid| adcategory|\n",
      "+------+--------------------+-------+-------------+-----+------+---------+--------------------+-----+-------------+------+----+-----------+\n",
      "|   231|2016-06-09 14:06:...| 440305|        23626|    1|   142|        4|2016-06-08 01:40:...|23669|        23626|   142|  27|      games|\n",
      "|   231|2016-06-09 14:06:...| 440305|        23626|    1|   142|        4|2016-06-08 09:24:...|24122|        23626|   142|   4|      games|\n",
      "|   231|2016-06-09 14:06:...| 440305|        23626|    1|   142|        4|2016-06-08 17:21:...|24659|        23626|   142|  22|  computers|\n",
      "|   231|2016-06-09 14:06:...| 440305|        23626|    1|   142|        4|2016-06-08 23:34:...|25076|        23626|   142|  21|     movies|\n",
      "|   231|2016-06-09 14:06:...| 440305|        23626|    1|   142|        4|2016-06-09 16:32:...|26220|        23626|   142|  16|   clothing|\n",
      "|   231|2016-06-09 14:06:...| 440305|        23626|    1|   142|        4|2016-06-10 10:43:...|28180|        27925|   142|  13|  computers|\n",
      "|   231|2016-06-09 14:06:...| 440305|        23626|    1|   142|        4|2016-06-10 17:42:...|28598|        27925|   142|   6|     movies|\n",
      "|   231|2016-06-09 14:06:...| 440305|        23626|    1|   142|        4|2016-06-11 05:49:...|29289|        27925|   142|  21|     movies|\n",
      "|   231|2016-06-09 14:06:...| 440305|        23626|    1|   142|        4|2016-06-11 08:33:...|29462|        27925|   142|  11|      games|\n",
      "|   231|2016-06-09 14:06:...| 440305|        23626|    1|   142|        4|2016-06-11 13:59:...|29905|        27925|   142|   4|      games|\n",
      "|   231|2016-06-09 14:06:...| 440305|        23626|    1|   142|        4|2016-06-12 05:12:...|31050|        27925|   142|   2|electronics|\n",
      "|   231|2016-06-09 14:06:...| 440305|        23626|    1|   142|        4|2016-06-12 13:41:...|31815|        27925|   142|   7|   hardware|\n",
      "|   231|2016-06-09 14:06:...| 440305|        23626|    1|   142|        4|2016-06-13 07:33:...|33180|        27925|   142|  14|    fashion|\n",
      "|   231|2016-06-09 14:06:...| 440305|        23626|    1|   142|        4|2016-06-13 23:30:...|35041|        33198|   142|  13|  computers|\n",
      "|   231|2016-06-09 14:06:...| 440305|        23626|    1|   142|        4|2016-06-14 19:44:...|36767|        33198|   142|  26|     movies|\n",
      "|   231|2016-06-09 14:06:...| 440305|        23626|    1|   142|        4|2016-06-14 21:49:...|36918|        33198|   142|  14|    fashion|\n",
      "|   231|2016-06-09 14:06:...| 440305|        23626|    1|   142|        4|2016-06-15 05:12:...|37459|        33198|   142|  18|      games|\n",
      "|   231|2016-06-09 14:06:...| 440305|        23626|    1|   142|        4|2016-06-15 21:45:...|38698|        33198|   142|  12|  computers|\n",
      "|   231|2016-06-09 14:06:...| 440305|        23626|    1|   142|        4|2016-06-16 02:29:...|39050|        33198|   142|  15|     sports|\n",
      "|   231|2016-06-09 14:41:...| 442081|        23626|    0|   142|        4|2016-06-08 01:40:...|23669|        23626|   142|  27|      games|\n",
      "+------+--------------------+-------+-------------+-----+------+---------+--------------------+-----+-------------+------+----+-----------+\n",
      "only showing top 20 rows\n",
      "\n"
     ]
    }
   ],
   "source": [
    "merge.show()"
   ]
  }
 ],
 "metadata": {
  "kernelspec": {
   "display_name": "Python 3",
   "language": "python",
   "name": "python3"
  },
  "language_info": {
   "codemirror_mode": {
    "name": "ipython",
    "version": 3
   },
   "file_extension": ".py",
   "mimetype": "text/x-python",
   "name": "python",
   "nbconvert_exporter": "python",
   "pygments_lexer": "ipython3",
   "version": "3.9.14"
  },
  "vscode": {
   "interpreter": {
    "hash": "36cf16204b8548560b1c020c4e8fb5b57f0e4c58016f52f2d4be01e192833930"
   }
  }
 },
 "nbformat": 4,
 "nbformat_minor": 4
}
